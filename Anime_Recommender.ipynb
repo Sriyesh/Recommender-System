{
  "nbformat": 4,
  "nbformat_minor": 0,
  "metadata": {
    "colab": {
      "name": "Anime_Recommender.ipynb",
      "version": "0.3.2",
      "provenance": [],
      "include_colab_link": true
    },
    "kernelspec": {
      "display_name": "Python 3",
      "language": "python",
      "name": "python3"
    }
  },
  "cells": [
    {
      "cell_type": "markdown",
      "metadata": {
        "id": "view-in-github",
        "colab_type": "text"
      },
      "source": [
        "[View in Colaboratory](https://colab.research.google.com/github/Sriyesh/Recommender-System/blob/master/Anime_Recommender.ipynb)"
      ]
    },
    {
      "metadata": {
        "id": "stFuWg1HDBZR",
        "colab_type": "code",
        "colab": {}
      },
      "cell_type": "code",
      "source": [
        "!pip install pydrive"
      ],
      "execution_count": 0,
      "outputs": []
    },
    {
      "metadata": {
        "id": "MdsMzBRLApNe",
        "colab_type": "code",
        "colab": {}
      },
      "cell_type": "code",
      "source": [
        "from google.colab import auth\n",
        "auth.authenticate_user()\n",
        "\n",
        "from pydrive.drive import GoogleDrive\n",
        "from pydrive.auth import GoogleAuth\n",
        "from oauth2client.client import GoogleCredentials\n",
        "gauth = GoogleAuth()\n",
        "gauth.credentials = GoogleCredentials.get_application_default()\n",
        "drive = GoogleDrive(gauth)\n",
        "\n",
        "myfile = drive.CreateFile({'id': '1-iHXPQIhdILjIHRxKtprn-4xWCOGh2t0'})\n",
        "myfile.GetContentFile('anime.csv')"
      ],
      "execution_count": 0,
      "outputs": []
    },
    {
      "metadata": {
        "id": "nIN69IbH-e3f",
        "colab_type": "code",
        "colab": {
          "base_uri": "https://localhost:8080/",
          "height": 34
        },
        "outputId": "e3c81262-9875-45d3-ab9c-343d05df7ff9"
      },
      "cell_type": "code",
      "source": [
        "#import dependence\n",
        "import pandas as pd \n",
        "from sklearn.feature_extraction.text import TfidfVectorizer\n",
        "#load dataset\n",
        "import io\n",
        "data = pd.read_csv('anime.csv',low_memory=False)\n",
        "data.shape"
      ],
      "execution_count": 8,
      "outputs": [
        {
          "output_type": "execute_result",
          "data": {
            "text/plain": [
              "(12294, 7)"
            ]
          },
          "metadata": {
            "tags": []
          },
          "execution_count": 8
        }
      ]
    },
    {
      "metadata": {
        "id": "x5zdK5Ds-e4C",
        "colab_type": "code",
        "colab": {
          "base_uri": "https://localhost:8080/",
          "height": 142
        },
        "outputId": "20bd6897-6c46-4468-fed0-084da2b69f04"
      },
      "cell_type": "code",
      "source": [
        "data.head(3)"
      ],
      "execution_count": 9,
      "outputs": [
        {
          "output_type": "execute_result",
          "data": {
            "text/html": [
              "<div>\n",
              "<style scoped>\n",
              "    .dataframe tbody tr th:only-of-type {\n",
              "        vertical-align: middle;\n",
              "    }\n",
              "\n",
              "    .dataframe tbody tr th {\n",
              "        vertical-align: top;\n",
              "    }\n",
              "\n",
              "    .dataframe thead th {\n",
              "        text-align: right;\n",
              "    }\n",
              "</style>\n",
              "<table border=\"1\" class=\"dataframe\">\n",
              "  <thead>\n",
              "    <tr style=\"text-align: right;\">\n",
              "      <th></th>\n",
              "      <th>anime_id</th>\n",
              "      <th>name</th>\n",
              "      <th>genre</th>\n",
              "      <th>type</th>\n",
              "      <th>episodes</th>\n",
              "      <th>rating</th>\n",
              "      <th>members</th>\n",
              "    </tr>\n",
              "  </thead>\n",
              "  <tbody>\n",
              "    <tr>\n",
              "      <th>0</th>\n",
              "      <td>32281</td>\n",
              "      <td>Kimi no Na wa.</td>\n",
              "      <td>Drama, Romance, School, Supernatural</td>\n",
              "      <td>Movie</td>\n",
              "      <td>1</td>\n",
              "      <td>9.37</td>\n",
              "      <td>200630</td>\n",
              "    </tr>\n",
              "    <tr>\n",
              "      <th>1</th>\n",
              "      <td>5114</td>\n",
              "      <td>Fullmetal Alchemist: Brotherhood</td>\n",
              "      <td>Action, Adventure, Drama, Fantasy, Magic, Mili...</td>\n",
              "      <td>TV</td>\n",
              "      <td>64</td>\n",
              "      <td>9.26</td>\n",
              "      <td>793665</td>\n",
              "    </tr>\n",
              "    <tr>\n",
              "      <th>2</th>\n",
              "      <td>28977</td>\n",
              "      <td>Gintama°</td>\n",
              "      <td>Action, Comedy, Historical, Parody, Samurai, S...</td>\n",
              "      <td>TV</td>\n",
              "      <td>51</td>\n",
              "      <td>9.25</td>\n",
              "      <td>114262</td>\n",
              "    </tr>\n",
              "  </tbody>\n",
              "</table>\n",
              "</div>"
            ],
            "text/plain": [
              "   anime_id                              name  \\\n",
              "0     32281                    Kimi no Na wa.   \n",
              "1      5114  Fullmetal Alchemist: Brotherhood   \n",
              "2     28977                          Gintama°   \n",
              "\n",
              "                                               genre   type episodes  rating  \\\n",
              "0               Drama, Romance, School, Supernatural  Movie        1    9.37   \n",
              "1  Action, Adventure, Drama, Fantasy, Magic, Mili...     TV       64    9.26   \n",
              "2  Action, Comedy, Historical, Parody, Samurai, S...     TV       51    9.25   \n",
              "\n",
              "   members  \n",
              "0   200630  \n",
              "1   793665  \n",
              "2   114262  "
            ]
          },
          "metadata": {
            "tags": []
          },
          "execution_count": 9
        }
      ]
    },
    {
      "metadata": {
        "id": "68k4wTpz-e8N",
        "colab_type": "code",
        "colab": {
          "base_uri": "https://localhost:8080/",
          "height": 34
        },
        "outputId": "5ab51da2-4306-4a3a-a1e9-e51cafb1b129"
      },
      "cell_type": "code",
      "source": [
        "#calculate the average rating\n",
        "c = data['rating'].mean()\n",
        "print(c)"
      ],
      "execution_count": 10,
      "outputs": [
        {
          "output_type": "stream",
          "text": [
            "6.473901690981432\n"
          ],
          "name": "stdout"
        }
      ]
    },
    {
      "metadata": {
        "id": "19fXhOZk-e8g",
        "colab_type": "code",
        "colab": {
          "base_uri": "https://localhost:8080/",
          "height": 34
        },
        "outputId": "f4ab99fb-107b-4496-af72-504653250312"
      },
      "cell_type": "code",
      "source": [
        "# calculate minimum number of votes required to be in chart\n",
        "m = data['members'].quantile(0.90)\n",
        "print(m)"
      ],
      "execution_count": 11,
      "outputs": [
        {
          "output_type": "stream",
          "text": [
            "45188.7\n"
          ],
          "name": "stdout"
        }
      ]
    },
    {
      "metadata": {
        "id": "Di4eDtMr-e8v",
        "colab_type": "code",
        "colab": {
          "base_uri": "https://localhost:8080/",
          "height": 34
        },
        "outputId": "40ad967e-2fff-4784-c790-c2b0d065e66b"
      },
      "cell_type": "code",
      "source": [
        "#filter out all qualified anime into a new dataframe\n",
        "q_anime = data.copy().loc[data['members']>=m]\n",
        "q_anime.shape"
      ],
      "execution_count": 12,
      "outputs": [
        {
          "output_type": "execute_result",
          "data": {
            "text/plain": [
              "(1230, 7)"
            ]
          },
          "metadata": {
            "tags": []
          },
          "execution_count": 12
        }
      ]
    },
    {
      "metadata": {
        "id": "rAu3mnbF-e89",
        "colab_type": "code",
        "colab": {}
      },
      "cell_type": "code",
      "source": [
        "# Function that computes the weighted rating of each anime\n",
        "\n",
        "def weighted_rating(x,m=m,c=c):\n",
        "    v = x['members']\n",
        "    R = x['rating']\n",
        "    #calculation based on IMDB formula\n",
        "    return (v/(v+m) * R) + (m/(m+v)*c)\n"
      ],
      "execution_count": 0,
      "outputs": []
    },
    {
      "metadata": {
        "id": "1fCJgBU7-e9K",
        "colab_type": "code",
        "colab": {}
      },
      "cell_type": "code",
      "source": [
        "#define a new feature 'score' and calculate its value with weighted_rating()\n",
        "q_anime['score'] = q_anime.apply(weighted_rating, axis=1)"
      ],
      "execution_count": 0,
      "outputs": []
    },
    {
      "metadata": {
        "id": "rAf4E-Sy-e9V",
        "colab_type": "code",
        "colab": {
          "base_uri": "https://localhost:8080/",
          "height": 514
        },
        "outputId": "42b67b9c-9494-484e-a9db-954039551de0"
      },
      "cell_type": "code",
      "source": [
        "#sort the movie based on score\n",
        "q_anime = q_anime.sort_values('score',ascending=False)\n",
        "\n",
        "#print the top 15 animes\n",
        "q_anime[['name','rating','members','score']].head(15)"
      ],
      "execution_count": 15,
      "outputs": [
        {
          "output_type": "execute_result",
          "data": {
            "text/html": [
              "<div>\n",
              "<style scoped>\n",
              "    .dataframe tbody tr th:only-of-type {\n",
              "        vertical-align: middle;\n",
              "    }\n",
              "\n",
              "    .dataframe tbody tr th {\n",
              "        vertical-align: top;\n",
              "    }\n",
              "\n",
              "    .dataframe thead th {\n",
              "        text-align: right;\n",
              "    }\n",
              "</style>\n",
              "<table border=\"1\" class=\"dataframe\">\n",
              "  <thead>\n",
              "    <tr style=\"text-align: right;\">\n",
              "      <th></th>\n",
              "      <th>name</th>\n",
              "      <th>rating</th>\n",
              "      <th>members</th>\n",
              "      <th>score</th>\n",
              "    </tr>\n",
              "  </thead>\n",
              "  <tbody>\n",
              "    <tr>\n",
              "      <th>1</th>\n",
              "      <td>Fullmetal Alchemist: Brotherhood</td>\n",
              "      <td>9.26</td>\n",
              "      <td>793665</td>\n",
              "      <td>9.109914</td>\n",
              "    </tr>\n",
              "    <tr>\n",
              "      <th>3</th>\n",
              "      <td>Steins;Gate</td>\n",
              "      <td>9.17</td>\n",
              "      <td>673572</td>\n",
              "      <td>9.000495</td>\n",
              "    </tr>\n",
              "    <tr>\n",
              "      <th>6</th>\n",
              "      <td>Hunter x Hunter (2011)</td>\n",
              "      <td>9.13</td>\n",
              "      <td>425855</td>\n",
              "      <td>8.875192</td>\n",
              "    </tr>\n",
              "    <tr>\n",
              "      <th>0</th>\n",
              "      <td>Kimi no Na wa.</td>\n",
              "      <td>9.37</td>\n",
              "      <td>200630</td>\n",
              "      <td>8.837612</td>\n",
              "    </tr>\n",
              "    <tr>\n",
              "      <th>10</th>\n",
              "      <td>Clannad: After Story</td>\n",
              "      <td>9.06</td>\n",
              "      <td>456749</td>\n",
              "      <td>8.827177</td>\n",
              "    </tr>\n",
              "    <tr>\n",
              "      <th>13</th>\n",
              "      <td>Code Geass: Hangyaku no Lelouch R2</td>\n",
              "      <td>8.98</td>\n",
              "      <td>572888</td>\n",
              "      <td>8.796775</td>\n",
              "    </tr>\n",
              "    <tr>\n",
              "      <th>12</th>\n",
              "      <td>Gintama</td>\n",
              "      <td>9.04</td>\n",
              "      <td>336376</td>\n",
              "      <td>8.736097</td>\n",
              "    </tr>\n",
              "    <tr>\n",
              "      <th>15</th>\n",
              "      <td>Sen to Chihiro no Kamikakushi</td>\n",
              "      <td>8.93</td>\n",
              "      <td>466254</td>\n",
              "      <td>8.712991</td>\n",
              "    </tr>\n",
              "    <tr>\n",
              "      <th>19</th>\n",
              "      <td>Code Geass: Hangyaku no Lelouch</td>\n",
              "      <td>8.83</td>\n",
              "      <td>715151</td>\n",
              "      <td>8.689972</td>\n",
              "    </tr>\n",
              "    <tr>\n",
              "      <th>16</th>\n",
              "      <td>Shigatsu wa Kimi no Uso</td>\n",
              "      <td>8.92</td>\n",
              "      <td>416397</td>\n",
              "      <td>8.680530</td>\n",
              "    </tr>\n",
              "    <tr>\n",
              "      <th>23</th>\n",
              "      <td>One Punch Man</td>\n",
              "      <td>8.82</td>\n",
              "      <td>552458</td>\n",
              "      <td>8.642609</td>\n",
              "    </tr>\n",
              "    <tr>\n",
              "      <th>22</th>\n",
              "      <td>Cowboy Bebop</td>\n",
              "      <td>8.82</td>\n",
              "      <td>486824</td>\n",
              "      <td>8.620724</td>\n",
              "    </tr>\n",
              "    <tr>\n",
              "      <th>40</th>\n",
              "      <td>Death Note</td>\n",
              "      <td>8.71</td>\n",
              "      <td>1013917</td>\n",
              "      <td>8.614593</td>\n",
              "    </tr>\n",
              "    <tr>\n",
              "      <th>29</th>\n",
              "      <td>Tengen Toppa Gurren Lagann</td>\n",
              "      <td>8.78</td>\n",
              "      <td>562962</td>\n",
              "      <td>8.608645</td>\n",
              "    </tr>\n",
              "    <tr>\n",
              "      <th>4</th>\n",
              "      <td>Gintama&amp;#039;</td>\n",
              "      <td>9.16</td>\n",
              "      <td>151266</td>\n",
              "      <td>8.542141</td>\n",
              "    </tr>\n",
              "  </tbody>\n",
              "</table>\n",
              "</div>"
            ],
            "text/plain": [
              "                                  name  rating  members     score\n",
              "1     Fullmetal Alchemist: Brotherhood    9.26   793665  9.109914\n",
              "3                          Steins;Gate    9.17   673572  9.000495\n",
              "6               Hunter x Hunter (2011)    9.13   425855  8.875192\n",
              "0                       Kimi no Na wa.    9.37   200630  8.837612\n",
              "10                Clannad: After Story    9.06   456749  8.827177\n",
              "13  Code Geass: Hangyaku no Lelouch R2    8.98   572888  8.796775\n",
              "12                             Gintama    9.04   336376  8.736097\n",
              "15       Sen to Chihiro no Kamikakushi    8.93   466254  8.712991\n",
              "19     Code Geass: Hangyaku no Lelouch    8.83   715151  8.689972\n",
              "16             Shigatsu wa Kimi no Uso    8.92   416397  8.680530\n",
              "23                       One Punch Man    8.82   552458  8.642609\n",
              "22                        Cowboy Bebop    8.82   486824  8.620724\n",
              "40                          Death Note    8.71  1013917  8.614593\n",
              "29          Tengen Toppa Gurren Lagann    8.78   562962  8.608645\n",
              "4                        Gintama&#039;    9.16   151266  8.542141"
            ]
          },
          "metadata": {
            "tags": []
          },
          "execution_count": 15
        }
      ]
    },
    {
      "metadata": {
        "id": "bGzVBctN-e9p",
        "colab_type": "code",
        "colab": {
          "base_uri": "https://localhost:8080/",
          "height": 119
        },
        "outputId": "aec58149-29ce-4f91-d083-f8989ceb5d90"
      },
      "cell_type": "code",
      "source": [
        "data['genre'].head()"
      ],
      "execution_count": 16,
      "outputs": [
        {
          "output_type": "execute_result",
          "data": {
            "text/plain": [
              "0                 Drama, Romance, School, Supernatural\n",
              "1    Action, Adventure, Drama, Fantasy, Magic, Mili...\n",
              "2    Action, Comedy, Historical, Parody, Samurai, S...\n",
              "3                                     Sci-Fi, Thriller\n",
              "4    Action, Comedy, Historical, Parody, Samurai, S...\n",
              "Name: genre, dtype: object"
            ]
          },
          "metadata": {
            "tags": []
          },
          "execution_count": 16
        }
      ]
    },
    {
      "metadata": {
        "id": "X4JL1nIy-e-B",
        "colab_type": "code",
        "colab": {
          "base_uri": "https://localhost:8080/",
          "height": 34
        },
        "outputId": "8ff28ba5-b4a6-4d5d-8106-6b72e1269dd0"
      },
      "cell_type": "code",
      "source": [
        "#define a TF-IDF Vectorizer object. Remove all english stop words such as 'the', 'a'\n",
        "tfidf = TfidfVectorizer(stop_words='english')\n",
        "\n",
        "#Replace NaN with an empty string\n",
        "data['genre'] = data['genre'].fillna('')\n",
        "\n",
        "#Construct the required TF-IDF matrix by fitting and transforming the data\n",
        "tfidf_matrix = tfidf.fit_transform(data['genre'])\n",
        "\n",
        "#output the shape of tfidf_matrix\n",
        "tfidf_matrix.shape"
      ],
      "execution_count": 17,
      "outputs": [
        {
          "output_type": "execute_result",
          "data": {
            "text/plain": [
              "(12294, 46)"
            ]
          },
          "metadata": {
            "tags": []
          },
          "execution_count": 17
        }
      ]
    },
    {
      "metadata": {
        "id": "VMNJKpi_-e-x",
        "colab_type": "code",
        "colab": {}
      },
      "cell_type": "code",
      "source": [
        "#import linear_kernel\n",
        "from sklearn.metrics.pairwise import linear_kernel\n",
        "\n",
        "#compute the cosine similarity matrix\n",
        "cosin_sim = linear_kernel(tfidf_matrix, tfidf_matrix)"
      ],
      "execution_count": 0,
      "outputs": []
    },
    {
      "metadata": {
        "id": "srIzIGEJ-e_R",
        "colab_type": "code",
        "colab": {}
      },
      "cell_type": "code",
      "source": [
        "#construct a reverse map of indices and movie titles\n",
        "indices = pd.Series(data.index, index=data['name']).drop_duplicates()"
      ],
      "execution_count": 0,
      "outputs": []
    },
    {
      "metadata": {
        "id": "reTEx1xvEggQ",
        "colab_type": "code",
        "colab": {}
      },
      "cell_type": "code",
      "source": [
        "#function that takes in anime titles as input and outputs most similar animes\n",
        "def get_recommendation(name,cosin_sim=cosin_sim):\n",
        "  #get index of the movie that matchs the name\n",
        "  idx = indices[name]\n",
        "  \n",
        "  #get the pairwise similarity score of all movies with that movie\n",
        "  sim_score = list(enumerate(cosin_sim[idx]))\n",
        "  \n",
        "  #Sort the anmie based on the similarity scores\n",
        "  sim_scores = sorted(sim_score,key=lambda x: x[1],reverse=True)\n",
        "  \n",
        "  # Get the score of the 10 most similar anime\n",
        "  sim_score = sim_score[1:11]\n",
        "  \n",
        "  # Get the anime indices\n",
        "  anime_indices = [i[0] for i in sim_scores]\n",
        "  \n",
        "  # Return the top 10 most similar anime\n",
        "  return data['name'].iloc[anime_indices]"
      ],
      "execution_count": 0,
      "outputs": []
    },
    {
      "metadata": {
        "id": "SFafqtb2Guj0",
        "colab_type": "code",
        "colab": {
          "base_uri": "https://localhost:8080/",
          "height": 1071
        },
        "outputId": "2d1beb62-c2b6-4ab7-e5e4-7e87d7b005ef"
      },
      "cell_type": "code",
      "source": [
        "get_recommendation('Kimi no Na wa.')"
      ],
      "execution_count": 21,
      "outputs": [
        {
          "output_type": "execute_result",
          "data": {
            "text/plain": [
              "0                                           Kimi no Na wa.\n",
              "5805                           Wind: A Breath of Heart OVA\n",
              "6394                          Wind: A Breath of Heart (TV)\n",
              "1111                 Aura: Maryuuin Kouga Saigo no Tatakai\n",
              "1201                        Angel Beats!: Another Epilogue\n",
              "1494                                              Harmonie\n",
              "878                          Shakugan no Shana II (Second)\n",
              "986                                      Shakugan no Shana\n",
              "1604                                   Shakugan no Shana S\n",
              "1959                                             Air Movie\n",
              "4514                                          Touka Gettan\n",
              "5031                                        Mizuiro (2003)\n",
              "5127                                    Venus Versus Virus\n",
              "4219                           Rokujouma no Shinryakusha!?\n",
              "11061                                         Renai Boukun\n",
              "208                          Kokoro ga Sakebitagatterunda.\n",
              "504      Clannad: After Story - Mou Hitotsu no Sekai, K...\n",
              "1435                                            True Tears\n",
              "1436                    &quot;Bungaku Shoujo&quot; Memoire\n",
              "1631                                   Kimikiss Pure Rouge\n",
              "1907                                      Myself; Yourself\n",
              "2300                            Koi to Senkyo to Chocolate\n",
              "3297                    Koi to Senkyo to Chocolate Special\n",
              "3530          Otome wa Boku ni Koishiteru: Futari no Elder\n",
              "3908      Koi to Senkyo to Chocolate: Ikenai Hazuki-sensei\n",
              "3914                            Myself ; Yourself Specials\n",
              "5233                                    To Heart 2 Special\n",
              "6156                                       School Days ONA\n",
              "6160                   Tokimeki Memorial: Forever With You\n",
              "219      Yahari Ore no Seishun Love Comedy wa Machigatt...\n",
              "                               ...                        \n",
              "12263                  Ikenai Boy: Ikasu Maruhi Hand Power\n",
              "12264                     Junjou Shoujo Et Cetera Specials\n",
              "12265                             Kyonyuu Reijou MC Gakuen\n",
              "12266                   Kyuukyoku no Chef wa Oishinbo Papa\n",
              "12267                                        Lovely Series\n",
              "12268                                 Manga Edo Erobanashi\n",
              "12269                                   Milky Gal: Cats Ai\n",
              "12270                            Misato-chan no Yume Nikki\n",
              "12271                  Nijuusou: Wana ni Ochita Onna-tachi\n",
              "12272                                            Nudl Nude\n",
              "12273                                          Nudl Nude 2\n",
              "12274    Nuki Doki! Tenshi to Akuma no Sakusei Battle -...\n",
              "12275    Onna Spy Goumon: Teki no Ajito wa Jotai Goumonsho\n",
              "12276                                Original C-V-P Momoko\n",
              "12277                     Original Video Romance Animation\n",
              "12278                                      Pink no Curtain\n",
              "12279                         Sagurare Otome The Animation\n",
              "12280                                         Saimin Class\n",
              "12281                                       Sakura no Mori\n",
              "12282                      Shikkoku no Shaga The Animation\n",
              "12283                                 Silent Chaser Kagami\n",
              "12284                                   Super Erotic Anime\n",
              "12286                                  Teleclub no Himitsu\n",
              "12287                               Tenshi no Habataki Jun\n",
              "12288                                     The Satisfaction\n",
              "12289         Toushindai My Lover: Minami tai Mecha-Minami\n",
              "12290                                          Under World\n",
              "12291                       Violence Gekiga David no Hoshi\n",
              "12292    Violence Gekiga Shin David no Hoshi: Inma Dens...\n",
              "12293                     Yasuji no Pornorama: Yacchimae!!\n",
              "Name: name, Length: 12294, dtype: object"
            ]
          },
          "metadata": {
            "tags": []
          },
          "execution_count": 21
        }
      ]
    }
  ]
}